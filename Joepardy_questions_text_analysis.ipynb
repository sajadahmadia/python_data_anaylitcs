{
 "cells": [
  {
   "cell_type": "markdown",
   "metadata": {
    "collapsed": true
   },
   "source": [
    "# Winning Jeopardy"
   ]
  },
  {
   "cell_type": "markdown",
   "metadata": {},
   "source": [
    "Jeopardy is a popular TV show in the US where participants answer questions to win money. It's been running for many years, and is a major force in popular culture."
   ]
  },
  {
   "cell_type": "markdown",
   "metadata": {},
   "source": [
    "* our aim is to  to figure out some patterns in the questions that could help you win.\n",
    "\n",
    "* The dataset is named jeopardy.csv, and contains 20000 rows from the beginning of a full dataset of Jeopardy questions, which you can download [here](https://www.reddit.com/r/datasets/comments/1uyd0t/200000_jeopardy_questions_in_a_json_file)."
   ]
  },
  {
   "cell_type": "code",
   "execution_count": 60,
   "metadata": {
    "collapsed": true
   },
   "outputs": [],
   "source": [
    "import pandas as pd\n",
    "import numpy as np"
   ]
  },
  {
   "cell_type": "code",
   "execution_count": 61,
   "metadata": {
    "collapsed": false
   },
   "outputs": [
    {
     "data": {
      "text/html": [
       "<div>\n",
       "<style scoped>\n",
       "    .dataframe tbody tr th:only-of-type {\n",
       "        vertical-align: middle;\n",
       "    }\n",
       "\n",
       "    .dataframe tbody tr th {\n",
       "        vertical-align: top;\n",
       "    }\n",
       "\n",
       "    .dataframe thead th {\n",
       "        text-align: right;\n",
       "    }\n",
       "</style>\n",
       "<table border=\"1\" class=\"dataframe\">\n",
       "  <thead>\n",
       "    <tr style=\"text-align: right;\">\n",
       "      <th></th>\n",
       "      <th>Show Number</th>\n",
       "      <th>Air Date</th>\n",
       "      <th>Round</th>\n",
       "      <th>Category</th>\n",
       "      <th>Value</th>\n",
       "      <th>Question</th>\n",
       "      <th>Answer</th>\n",
       "    </tr>\n",
       "  </thead>\n",
       "  <tbody>\n",
       "    <tr>\n",
       "      <th>0</th>\n",
       "      <td>4680</td>\n",
       "      <td>2004-12-31</td>\n",
       "      <td>Jeopardy!</td>\n",
       "      <td>HISTORY</td>\n",
       "      <td>$200</td>\n",
       "      <td>For the last 8 years of his life, Galileo was ...</td>\n",
       "      <td>Copernicus</td>\n",
       "    </tr>\n",
       "    <tr>\n",
       "      <th>1</th>\n",
       "      <td>4680</td>\n",
       "      <td>2004-12-31</td>\n",
       "      <td>Jeopardy!</td>\n",
       "      <td>ESPN's TOP 10 ALL-TIME ATHLETES</td>\n",
       "      <td>$200</td>\n",
       "      <td>No. 2: 1912 Olympian; football star at Carlisl...</td>\n",
       "      <td>Jim Thorpe</td>\n",
       "    </tr>\n",
       "    <tr>\n",
       "      <th>2</th>\n",
       "      <td>4680</td>\n",
       "      <td>2004-12-31</td>\n",
       "      <td>Jeopardy!</td>\n",
       "      <td>EVERYBODY TALKS ABOUT IT...</td>\n",
       "      <td>$200</td>\n",
       "      <td>The city of Yuma in this state has a record av...</td>\n",
       "      <td>Arizona</td>\n",
       "    </tr>\n",
       "    <tr>\n",
       "      <th>3</th>\n",
       "      <td>4680</td>\n",
       "      <td>2004-12-31</td>\n",
       "      <td>Jeopardy!</td>\n",
       "      <td>THE COMPANY LINE</td>\n",
       "      <td>$200</td>\n",
       "      <td>In 1963, live on \"The Art Linkletter Show\", th...</td>\n",
       "      <td>McDonald's</td>\n",
       "    </tr>\n",
       "    <tr>\n",
       "      <th>4</th>\n",
       "      <td>4680</td>\n",
       "      <td>2004-12-31</td>\n",
       "      <td>Jeopardy!</td>\n",
       "      <td>EPITAPHS &amp; TRIBUTES</td>\n",
       "      <td>$200</td>\n",
       "      <td>Signer of the Dec. of Indep., framer of the Co...</td>\n",
       "      <td>John Adams</td>\n",
       "    </tr>\n",
       "  </tbody>\n",
       "</table>\n",
       "</div>"
      ],
      "text/plain": [
       "   Show Number    Air Date      Round                         Category  Value  \\\n",
       "0         4680  2004-12-31  Jeopardy!                          HISTORY   $200   \n",
       "1         4680  2004-12-31  Jeopardy!  ESPN's TOP 10 ALL-TIME ATHLETES   $200   \n",
       "2         4680  2004-12-31  Jeopardy!      EVERYBODY TALKS ABOUT IT...   $200   \n",
       "3         4680  2004-12-31  Jeopardy!                 THE COMPANY LINE   $200   \n",
       "4         4680  2004-12-31  Jeopardy!              EPITAPHS & TRIBUTES   $200   \n",
       "\n",
       "                                            Question      Answer  \n",
       "0  For the last 8 years of his life, Galileo was ...  Copernicus  \n",
       "1  No. 2: 1912 Olympian; football star at Carlisl...  Jim Thorpe  \n",
       "2  The city of Yuma in this state has a record av...     Arizona  \n",
       "3  In 1963, live on \"The Art Linkletter Show\", th...  McDonald's  \n",
       "4  Signer of the Dec. of Indep., framer of the Co...  John Adams  "
      ]
     },
     "execution_count": 61,
     "metadata": {},
     "output_type": "execute_result"
    }
   ],
   "source": [
    "jeopardy = pd.read_csv('jeopardy.csv') #reading the dataset\n",
    "jeopardy.head() #printing the first five rows of the dataset"
   ]
  },
  {
   "cell_type": "code",
   "execution_count": 62,
   "metadata": {
    "collapsed": false
   },
   "outputs": [
    {
     "data": {
      "text/plain": [
       "Index(['Show Number', ' Air Date', ' Round', ' Category', ' Value',\n",
       "       ' Question', ' Answer'],\n",
       "      dtype='object')"
      ]
     },
     "execution_count": 62,
     "metadata": {},
     "output_type": "execute_result"
    }
   ],
   "source": [
    "jeopardy.columns #showing the columns fo the dataset"
   ]
  },
  {
   "cell_type": "code",
   "execution_count": 63,
   "metadata": {
    "collapsed": false
   },
   "outputs": [
    {
     "data": {
      "text/plain": [
       "Index(['Show Number', 'Air Date', 'Round', 'Category', 'Value', 'Question',\n",
       "       'Answer'],\n",
       "      dtype='object')"
      ]
     },
     "execution_count": 63,
     "metadata": {},
     "output_type": "execute_result"
    }
   ],
   "source": [
    "jeopardy.columns = jeopardy.columns.str.strip() #removing extra spaces from column names \n",
    "jeopardy.columns "
   ]
  },
  {
   "cell_type": "code",
   "execution_count": 64,
   "metadata": {
    "collapsed": false
   },
   "outputs": [
    {
     "data": {
      "text/plain": [
       "Show Number     int64\n",
       "Air Date       object\n",
       "Round          object\n",
       "Category       object\n",
       "Value          object\n",
       "Question       object\n",
       "Answer         object\n",
       "dtype: object"
      ]
     },
     "execution_count": 64,
     "metadata": {},
     "output_type": "execute_result"
    }
   ],
   "source": [
    "jeopardy.dtypes #finding the type of each column"
   ]
  },
  {
   "cell_type": "code",
   "execution_count": 80,
   "metadata": {
    "collapsed": true
   },
   "outputs": [],
   "source": [
    "#creating a function to normalize string columns\n",
    "import re\n",
    "def string_normalizer(element):\n",
    "    element = element.lower()\n",
    "    element = re.sub('[^A-Za-z0-9\\s]', '',element)\n",
    "    element = re.sub('\\s+', ' ', element)\n",
    "    return element \n"
   ]
  },
  {
   "cell_type": "code",
   "execution_count": 81,
   "metadata": {
    "collapsed": false
   },
   "outputs": [
    {
     "data": {
      "text/plain": [
       "0    for the last 8 years of his life galileo was u...\n",
       "1    no 2 1912 olympian football star at carlisle i...\n",
       "2    the city of yuma in this state has a record av...\n",
       "3    in 1963 live on the art linkletter show this c...\n",
       "4    signer of the dec of indep framer of the const...\n",
       "Name: clean_question, dtype: object"
      ]
     },
     "execution_count": 81,
     "metadata": {},
     "output_type": "execute_result"
    }
   ],
   "source": [
    "#normalizing question column\n",
    "jeopardy['clean_question'] = jeopardy['Question'].apply(string_normalizer)\n",
    "jeopardy['clean_question'].head()"
   ]
  },
  {
   "cell_type": "code",
   "execution_count": 82,
   "metadata": {
    "collapsed": false
   },
   "outputs": [
    {
     "data": {
      "text/plain": [
       "0    copernicus\n",
       "1    jim thorpe\n",
       "2       arizona\n",
       "3     mcdonalds\n",
       "4    john adams\n",
       "Name: clean_answer, dtype: object"
      ]
     },
     "execution_count": 82,
     "metadata": {},
     "output_type": "execute_result"
    }
   ],
   "source": [
    "#normalizing the Answer column\n",
    "jeopardy['clean_answer'] = jeopardy['Answer'].apply(string_normalizer)\n",
    "jeopardy['clean_answer'].head()"
   ]
  },
  {
   "cell_type": "code",
   "execution_count": 83,
   "metadata": {
    "collapsed": false
   },
   "outputs": [
    {
     "data": {
      "text/plain": [
       "array(['$200', '$400', '$600', '$800', '$2,000', '$1000', '$1200',\n",
       "       '$1600', '$2000', '$3,200', 'None', '$5,000', '$100', '$300',\n",
       "       '$500', '$1,000', '$1,500', '$1,200', '$4,800', '$1,800'],\n",
       "      dtype=object)"
      ]
     },
     "execution_count": 83,
     "metadata": {},
     "output_type": "execute_result"
    }
   ],
   "source": [
    "#normalizing Value column\n",
    "jeopardy['Value'].unique()[:20]"
   ]
  },
  {
   "cell_type": "markdown",
   "metadata": {},
   "source": [
    "there are some None, 0, punctuation and $ signs and values that should be handled"
   ]
  },
  {
   "cell_type": "code",
   "execution_count": 84,
   "metadata": {
    "collapsed": false
   },
   "outputs": [],
   "source": [
    "#defining a nomalizer function for the Value column\n",
    "def value_normalizer(element):\n",
    "    try:\n",
    "        \n",
    "        element = re.sub('[$,]','',element)\n",
    "        element = int(element)\n",
    "        return element\n",
    "    except ValueError:\n",
    "        return int(0)\n",
    "    "
   ]
  },
  {
   "cell_type": "code",
   "execution_count": 85,
   "metadata": {
    "collapsed": false
   },
   "outputs": [
    {
     "name": "stdout",
     "output_type": "stream",
     "text": [
      "object\n"
     ]
    },
    {
     "data": {
      "text/plain": [
       "array([  200,   400,   600,   800,  2000,  1000,  1200,  1600,  3200,\n",
       "           0,  5000,   100,   300,   500,  1500,  4800,  1800,  1100,\n",
       "        2200,  3400,  3000,  4000,  6800,  1900,  3100,   700,  1400,\n",
       "        2800,  8000,  6000,  2400, 12000,  3800,  2500,  6200, 10000,\n",
       "        7000,  1492,  7400,  1300,  7200,  2600,  3300,  5400,  4500,\n",
       "        2100,   900,  3600,  2127,   367,  4400,  3500,  2900,  3900,\n",
       "        4100,  4600, 10800,  2300,  5600,  1111,  8200,  5800,   750,\n",
       "        7500,  1700,  9000,  6100,  1020,  4700,  2021,  5200,  3389])"
      ]
     },
     "execution_count": 85,
     "metadata": {},
     "output_type": "execute_result"
    }
   ],
   "source": [
    "#checking if the function works properly\n",
    "print(jeopardy['Value'].dtypes)\n",
    "jeopardy['Value'].apply(value_normalizer).unique()"
   ]
  },
  {
   "cell_type": "code",
   "execution_count": 155,
   "metadata": {
    "collapsed": false,
    "scrolled": true
   },
   "outputs": [
    {
     "name": "stdout",
     "output_type": "stream",
     "text": [
      "int64\n"
     ]
    },
    {
     "data": {
      "text/html": [
       "<div>\n",
       "<style scoped>\n",
       "    .dataframe tbody tr th:only-of-type {\n",
       "        vertical-align: middle;\n",
       "    }\n",
       "\n",
       "    .dataframe tbody tr th {\n",
       "        vertical-align: top;\n",
       "    }\n",
       "\n",
       "    .dataframe thead th {\n",
       "        text-align: right;\n",
       "    }\n",
       "</style>\n",
       "<table border=\"1\" class=\"dataframe\">\n",
       "  <thead>\n",
       "    <tr style=\"text-align: right;\">\n",
       "      <th></th>\n",
       "      <th>Show Number</th>\n",
       "      <th>Air Date</th>\n",
       "      <th>Round</th>\n",
       "      <th>Category</th>\n",
       "      <th>Value</th>\n",
       "      <th>Question</th>\n",
       "      <th>Answer</th>\n",
       "      <th>clean_question</th>\n",
       "      <th>clean_answer</th>\n",
       "      <th>clean_value</th>\n",
       "      <th>answer_in_question</th>\n",
       "      <th>question_overlap</th>\n",
       "    </tr>\n",
       "  </thead>\n",
       "  <tbody>\n",
       "    <tr>\n",
       "      <th>19325</th>\n",
       "      <td>10</td>\n",
       "      <td>1984-09-21</td>\n",
       "      <td>Final Jeopardy!</td>\n",
       "      <td>U.S. PRESIDENTS</td>\n",
       "      <td>None</td>\n",
       "      <td>Adventurous 26th president, he was 1st to ride...</td>\n",
       "      <td>Theodore Roosevelt</td>\n",
       "      <td>adventurous 26th president he was 1st to ride ...</td>\n",
       "      <td>theodore roosevelt</td>\n",
       "      <td>0</td>\n",
       "      <td>0.0</td>\n",
       "      <td>0.0</td>\n",
       "    </tr>\n",
       "    <tr>\n",
       "      <th>19301</th>\n",
       "      <td>10</td>\n",
       "      <td>1984-09-21</td>\n",
       "      <td>Double Jeopardy!</td>\n",
       "      <td>LABOR UNIONS</td>\n",
       "      <td>$200</td>\n",
       "      <td>Notorious labor leader missing since '75</td>\n",
       "      <td>Jimmy Hoffa</td>\n",
       "      <td>notorious labor leader missing since 75</td>\n",
       "      <td>jimmy hoffa</td>\n",
       "      <td>200</td>\n",
       "      <td>0.0</td>\n",
       "      <td>0.0</td>\n",
       "    </tr>\n",
       "    <tr>\n",
       "      <th>19302</th>\n",
       "      <td>10</td>\n",
       "      <td>1984-09-21</td>\n",
       "      <td>Double Jeopardy!</td>\n",
       "      <td>1789</td>\n",
       "      <td>$200</td>\n",
       "      <td>Washington proclaimed Nov. 26, 1789 this first...</td>\n",
       "      <td>Thanksgiving</td>\n",
       "      <td>washington proclaimed nov 26 1789 this first n...</td>\n",
       "      <td>thanksgiving</td>\n",
       "      <td>200</td>\n",
       "      <td>0.0</td>\n",
       "      <td>0.0</td>\n",
       "    </tr>\n",
       "    <tr>\n",
       "      <th>19303</th>\n",
       "      <td>10</td>\n",
       "      <td>1984-09-21</td>\n",
       "      <td>Double Jeopardy!</td>\n",
       "      <td>TOURIST TRAPS</td>\n",
       "      <td>$200</td>\n",
       "      <td>Both Ferde Grofe' &amp; the Colorado River dug thi...</td>\n",
       "      <td>the Grand Canyon</td>\n",
       "      <td>both ferde grofe the colorado river dug this n...</td>\n",
       "      <td>the grand canyon</td>\n",
       "      <td>200</td>\n",
       "      <td>0.0</td>\n",
       "      <td>0.5</td>\n",
       "    </tr>\n",
       "    <tr>\n",
       "      <th>19304</th>\n",
       "      <td>10</td>\n",
       "      <td>1984-09-21</td>\n",
       "      <td>Double Jeopardy!</td>\n",
       "      <td>LITERATURE</td>\n",
       "      <td>$200</td>\n",
       "      <td>Depending on the book, he could be a \"Jones\", ...</td>\n",
       "      <td>Tom</td>\n",
       "      <td>depending on the book he could be a jones a sa...</td>\n",
       "      <td>tom</td>\n",
       "      <td>200</td>\n",
       "      <td>0.0</td>\n",
       "      <td>0.0</td>\n",
       "    </tr>\n",
       "  </tbody>\n",
       "</table>\n",
       "</div>"
      ],
      "text/plain": [
       "       Show Number   Air Date             Round         Category Value  \\\n",
       "19325           10 1984-09-21   Final Jeopardy!  U.S. PRESIDENTS  None   \n",
       "19301           10 1984-09-21  Double Jeopardy!     LABOR UNIONS  $200   \n",
       "19302           10 1984-09-21  Double Jeopardy!             1789  $200   \n",
       "19303           10 1984-09-21  Double Jeopardy!    TOURIST TRAPS  $200   \n",
       "19304           10 1984-09-21  Double Jeopardy!       LITERATURE  $200   \n",
       "\n",
       "                                                Question              Answer  \\\n",
       "19325  Adventurous 26th president, he was 1st to ride...  Theodore Roosevelt   \n",
       "19301           Notorious labor leader missing since '75         Jimmy Hoffa   \n",
       "19302  Washington proclaimed Nov. 26, 1789 this first...        Thanksgiving   \n",
       "19303  Both Ferde Grofe' & the Colorado River dug thi...    the Grand Canyon   \n",
       "19304  Depending on the book, he could be a \"Jones\", ...                 Tom   \n",
       "\n",
       "                                          clean_question        clean_answer  \\\n",
       "19325  adventurous 26th president he was 1st to ride ...  theodore roosevelt   \n",
       "19301            notorious labor leader missing since 75         jimmy hoffa   \n",
       "19302  washington proclaimed nov 26 1789 this first n...        thanksgiving   \n",
       "19303  both ferde grofe the colorado river dug this n...    the grand canyon   \n",
       "19304  depending on the book he could be a jones a sa...                 tom   \n",
       "\n",
       "       clean_value  answer_in_question  question_overlap  \n",
       "19325            0                 0.0               0.0  \n",
       "19301          200                 0.0               0.0  \n",
       "19302          200                 0.0               0.0  \n",
       "19303          200                 0.0               0.5  \n",
       "19304          200                 0.0               0.0  "
      ]
     },
     "execution_count": 155,
     "metadata": {},
     "output_type": "execute_result"
    }
   ],
   "source": [
    "#creating a new column clean_value\n",
    "jeopardy['clean_value'] = jeopardy['Value'].apply(value_normalizer)\n",
    "print(jeopardy['clean_value'].dtype)\n",
    "jeopardy.head()"
   ]
  },
  {
   "cell_type": "code",
   "execution_count": 87,
   "metadata": {
    "collapsed": false
   },
   "outputs": [],
   "source": [
    "#converting Air Date column data type to datetime\n",
    "jeopardy['Air Date'] = pd.to_datetime(jeopardy['Air Date'])"
   ]
  },
  {
   "cell_type": "markdown",
   "metadata": {},
   "source": [
    "answering a question: How often the answer can be used for a question.\n"
   ]
  },
  {
   "cell_type": "code",
   "execution_count": 132,
   "metadata": {
    "collapsed": false
   },
   "outputs": [],
   "source": [
    "#defining a function to count the number of words that \n",
    "#are shared between each pair of answer - question:\n",
    "def match_count(row):\n",
    "    split_answer = row['clean_answer'].split()\n",
    "    split_question = row['clean_question'].split()    \n",
    "    match_count = 0\n",
    "    \n",
    "    if \"the\" in split_answer:\n",
    "        split_answer.remove(\"the\")\n",
    "\n",
    "    if len(split_answer) == 0 :\n",
    "        return 0\n",
    "    else:\n",
    "        for i in split_answer:\n",
    "            if i in split_question:\n",
    "                match_count += 1\n",
    "        return match_count / len(split_answer)\n",
    "    "
   ]
  },
  {
   "cell_type": "code",
   "execution_count": 134,
   "metadata": {
    "collapsed": false
   },
   "outputs": [
    {
     "data": {
      "text/html": [
       "<div>\n",
       "<style scoped>\n",
       "    .dataframe tbody tr th:only-of-type {\n",
       "        vertical-align: middle;\n",
       "    }\n",
       "\n",
       "    .dataframe tbody tr th {\n",
       "        vertical-align: top;\n",
       "    }\n",
       "\n",
       "    .dataframe thead th {\n",
       "        text-align: right;\n",
       "    }\n",
       "</style>\n",
       "<table border=\"1\" class=\"dataframe\">\n",
       "  <thead>\n",
       "    <tr style=\"text-align: right;\">\n",
       "      <th></th>\n",
       "      <th>Show Number</th>\n",
       "      <th>Air Date</th>\n",
       "      <th>Round</th>\n",
       "      <th>Category</th>\n",
       "      <th>Value</th>\n",
       "      <th>Question</th>\n",
       "      <th>Answer</th>\n",
       "      <th>clean_question</th>\n",
       "      <th>clean_answer</th>\n",
       "      <th>clean_value</th>\n",
       "      <th>answer_in_question</th>\n",
       "    </tr>\n",
       "  </thead>\n",
       "  <tbody>\n",
       "    <tr>\n",
       "      <th>0</th>\n",
       "      <td>4680</td>\n",
       "      <td>2004-12-31</td>\n",
       "      <td>Jeopardy!</td>\n",
       "      <td>HISTORY</td>\n",
       "      <td>$200</td>\n",
       "      <td>For the last 8 years of his life, Galileo was ...</td>\n",
       "      <td>Copernicus</td>\n",
       "      <td>for the last 8 years of his life galileo was u...</td>\n",
       "      <td>copernicus</td>\n",
       "      <td>200</td>\n",
       "      <td>0.0</td>\n",
       "    </tr>\n",
       "    <tr>\n",
       "      <th>1</th>\n",
       "      <td>4680</td>\n",
       "      <td>2004-12-31</td>\n",
       "      <td>Jeopardy!</td>\n",
       "      <td>ESPN's TOP 10 ALL-TIME ATHLETES</td>\n",
       "      <td>$200</td>\n",
       "      <td>No. 2: 1912 Olympian; football star at Carlisl...</td>\n",
       "      <td>Jim Thorpe</td>\n",
       "      <td>no 2 1912 olympian football star at carlisle i...</td>\n",
       "      <td>jim thorpe</td>\n",
       "      <td>200</td>\n",
       "      <td>0.0</td>\n",
       "    </tr>\n",
       "    <tr>\n",
       "      <th>2</th>\n",
       "      <td>4680</td>\n",
       "      <td>2004-12-31</td>\n",
       "      <td>Jeopardy!</td>\n",
       "      <td>EVERYBODY TALKS ABOUT IT...</td>\n",
       "      <td>$200</td>\n",
       "      <td>The city of Yuma in this state has a record av...</td>\n",
       "      <td>Arizona</td>\n",
       "      <td>the city of yuma in this state has a record av...</td>\n",
       "      <td>arizona</td>\n",
       "      <td>200</td>\n",
       "      <td>0.0</td>\n",
       "    </tr>\n",
       "    <tr>\n",
       "      <th>3</th>\n",
       "      <td>4680</td>\n",
       "      <td>2004-12-31</td>\n",
       "      <td>Jeopardy!</td>\n",
       "      <td>THE COMPANY LINE</td>\n",
       "      <td>$200</td>\n",
       "      <td>In 1963, live on \"The Art Linkletter Show\", th...</td>\n",
       "      <td>McDonald's</td>\n",
       "      <td>in 1963 live on the art linkletter show this c...</td>\n",
       "      <td>mcdonalds</td>\n",
       "      <td>200</td>\n",
       "      <td>0.0</td>\n",
       "    </tr>\n",
       "    <tr>\n",
       "      <th>4</th>\n",
       "      <td>4680</td>\n",
       "      <td>2004-12-31</td>\n",
       "      <td>Jeopardy!</td>\n",
       "      <td>EPITAPHS &amp; TRIBUTES</td>\n",
       "      <td>$200</td>\n",
       "      <td>Signer of the Dec. of Indep., framer of the Co...</td>\n",
       "      <td>John Adams</td>\n",
       "      <td>signer of the dec of indep framer of the const...</td>\n",
       "      <td>john adams</td>\n",
       "      <td>200</td>\n",
       "      <td>0.0</td>\n",
       "    </tr>\n",
       "    <tr>\n",
       "      <th>5</th>\n",
       "      <td>4680</td>\n",
       "      <td>2004-12-31</td>\n",
       "      <td>Jeopardy!</td>\n",
       "      <td>3-LETTER WORDS</td>\n",
       "      <td>$200</td>\n",
       "      <td>In the title of an Aesop fable, this insect sh...</td>\n",
       "      <td>the ant</td>\n",
       "      <td>in the title of an aesop fable this insect sha...</td>\n",
       "      <td>the ant</td>\n",
       "      <td>200</td>\n",
       "      <td>0.0</td>\n",
       "    </tr>\n",
       "    <tr>\n",
       "      <th>6</th>\n",
       "      <td>4680</td>\n",
       "      <td>2004-12-31</td>\n",
       "      <td>Jeopardy!</td>\n",
       "      <td>HISTORY</td>\n",
       "      <td>$400</td>\n",
       "      <td>Built in 312 B.C. to link Rome &amp; the South of ...</td>\n",
       "      <td>the Appian Way</td>\n",
       "      <td>built in 312 bc to link rome the south of ital...</td>\n",
       "      <td>the appian way</td>\n",
       "      <td>400</td>\n",
       "      <td>0.0</td>\n",
       "    </tr>\n",
       "    <tr>\n",
       "      <th>7</th>\n",
       "      <td>4680</td>\n",
       "      <td>2004-12-31</td>\n",
       "      <td>Jeopardy!</td>\n",
       "      <td>ESPN's TOP 10 ALL-TIME ATHLETES</td>\n",
       "      <td>$400</td>\n",
       "      <td>No. 8: 30 steals for the Birmingham Barons; 2,...</td>\n",
       "      <td>Michael Jordan</td>\n",
       "      <td>no 8 30 steals for the birmingham barons 2306 ...</td>\n",
       "      <td>michael jordan</td>\n",
       "      <td>400</td>\n",
       "      <td>0.0</td>\n",
       "    </tr>\n",
       "    <tr>\n",
       "      <th>8</th>\n",
       "      <td>4680</td>\n",
       "      <td>2004-12-31</td>\n",
       "      <td>Jeopardy!</td>\n",
       "      <td>EVERYBODY TALKS ABOUT IT...</td>\n",
       "      <td>$400</td>\n",
       "      <td>In the winter of 1971-72, a record 1,122 inche...</td>\n",
       "      <td>Washington</td>\n",
       "      <td>in the winter of 197172 a record 1122 inches o...</td>\n",
       "      <td>washington</td>\n",
       "      <td>400</td>\n",
       "      <td>0.0</td>\n",
       "    </tr>\n",
       "    <tr>\n",
       "      <th>9</th>\n",
       "      <td>4680</td>\n",
       "      <td>2004-12-31</td>\n",
       "      <td>Jeopardy!</td>\n",
       "      <td>THE COMPANY LINE</td>\n",
       "      <td>$400</td>\n",
       "      <td>This housewares store was named for the packag...</td>\n",
       "      <td>Crate &amp; Barrel</td>\n",
       "      <td>this housewares store was named for the packag...</td>\n",
       "      <td>crate barrel</td>\n",
       "      <td>400</td>\n",
       "      <td>0.0</td>\n",
       "    </tr>\n",
       "  </tbody>\n",
       "</table>\n",
       "</div>"
      ],
      "text/plain": [
       "   Show Number   Air Date      Round                         Category Value  \\\n",
       "0         4680 2004-12-31  Jeopardy!                          HISTORY  $200   \n",
       "1         4680 2004-12-31  Jeopardy!  ESPN's TOP 10 ALL-TIME ATHLETES  $200   \n",
       "2         4680 2004-12-31  Jeopardy!      EVERYBODY TALKS ABOUT IT...  $200   \n",
       "3         4680 2004-12-31  Jeopardy!                 THE COMPANY LINE  $200   \n",
       "4         4680 2004-12-31  Jeopardy!              EPITAPHS & TRIBUTES  $200   \n",
       "5         4680 2004-12-31  Jeopardy!                   3-LETTER WORDS  $200   \n",
       "6         4680 2004-12-31  Jeopardy!                          HISTORY  $400   \n",
       "7         4680 2004-12-31  Jeopardy!  ESPN's TOP 10 ALL-TIME ATHLETES  $400   \n",
       "8         4680 2004-12-31  Jeopardy!      EVERYBODY TALKS ABOUT IT...  $400   \n",
       "9         4680 2004-12-31  Jeopardy!                 THE COMPANY LINE  $400   \n",
       "\n",
       "                                            Question          Answer  \\\n",
       "0  For the last 8 years of his life, Galileo was ...      Copernicus   \n",
       "1  No. 2: 1912 Olympian; football star at Carlisl...      Jim Thorpe   \n",
       "2  The city of Yuma in this state has a record av...         Arizona   \n",
       "3  In 1963, live on \"The Art Linkletter Show\", th...      McDonald's   \n",
       "4  Signer of the Dec. of Indep., framer of the Co...      John Adams   \n",
       "5  In the title of an Aesop fable, this insect sh...         the ant   \n",
       "6  Built in 312 B.C. to link Rome & the South of ...  the Appian Way   \n",
       "7  No. 8: 30 steals for the Birmingham Barons; 2,...  Michael Jordan   \n",
       "8  In the winter of 1971-72, a record 1,122 inche...      Washington   \n",
       "9  This housewares store was named for the packag...  Crate & Barrel   \n",
       "\n",
       "                                      clean_question    clean_answer  \\\n",
       "0  for the last 8 years of his life galileo was u...      copernicus   \n",
       "1  no 2 1912 olympian football star at carlisle i...      jim thorpe   \n",
       "2  the city of yuma in this state has a record av...         arizona   \n",
       "3  in 1963 live on the art linkletter show this c...       mcdonalds   \n",
       "4  signer of the dec of indep framer of the const...      john adams   \n",
       "5  in the title of an aesop fable this insect sha...         the ant   \n",
       "6  built in 312 bc to link rome the south of ital...  the appian way   \n",
       "7  no 8 30 steals for the birmingham barons 2306 ...  michael jordan   \n",
       "8  in the winter of 197172 a record 1122 inches o...      washington   \n",
       "9  this housewares store was named for the packag...    crate barrel   \n",
       "\n",
       "   clean_value  answer_in_question  \n",
       "0          200                 0.0  \n",
       "1          200                 0.0  \n",
       "2          200                 0.0  \n",
       "3          200                 0.0  \n",
       "4          200                 0.0  \n",
       "5          200                 0.0  \n",
       "6          400                 0.0  \n",
       "7          400                 0.0  \n",
       "8          400                 0.0  \n",
       "9          400                 0.0  "
      ]
     },
     "execution_count": 134,
     "metadata": {},
     "output_type": "execute_result"
    }
   ],
   "source": [
    "#creating a new column using the match_count function\n",
    "jeopardy['answer_in_question'] = jeopardy.apply(match_count,axis = 1)\n",
    "jeopardy.head(10)"
   ]
  },
  {
   "cell_type": "code",
   "execution_count": 135,
   "metadata": {
    "collapsed": false
   },
   "outputs": [
    {
     "data": {
      "text/plain": [
       "0.05900196524977763"
      ]
     },
     "execution_count": 135,
     "metadata": {},
     "output_type": "execute_result"
    }
   ],
   "source": [
    "#finding the mean of jeopardy['answer_in_question']\n",
    "jeopardy['answer_in_question'].mean()"
   ]
  },
  {
   "cell_type": "markdown",
   "metadata": {},
   "source": [
    "the low value 0.05900 shows that answers can't be find easily through the words in questions. as a result, it's hard to try estimate answers by investigating words in questions. "
   ]
  },
  {
   "cell_type": "markdown",
   "metadata": {},
   "source": [
    "** new question: how often new questions are repeats of older ones?**"
   ]
  },
  {
   "cell_type": "code",
   "execution_count": 136,
   "metadata": {
    "collapsed": true
   },
   "outputs": [],
   "source": [
    "#sorting the dataset based on date\n",
    "jeopardy = jeopardy.sort_values('Air Date', ascending = True)"
   ]
  },
  {
   "cell_type": "code",
   "execution_count": 145,
   "metadata": {
    "collapsed": false
   },
   "outputs": [
    {
     "data": {
      "text/plain": [
       "[0.0,\n",
       " 0.0,\n",
       " 0.0,\n",
       " 0.5,\n",
       " 0.0,\n",
       " 0.0,\n",
       " 0.0,\n",
       " 0,\n",
       " 0.0,\n",
       " 0.0,\n",
       " 0.0,\n",
       " 0.0,\n",
       " 0.0,\n",
       " 0.0,\n",
       " 0.0,\n",
       " 0.0,\n",
       " 0.0,\n",
       " 0.0,\n",
       " 0,\n",
       " 0.0]"
      ]
     },
     "execution_count": 145,
     "metadata": {},
     "output_type": "execute_result"
    }
   ],
   "source": [
    "# writing a for loop to find the mean of question overlap\n",
    "question_overlap = list()\n",
    "terms_used = set()\n",
    "\n",
    "for i,row in jeopardy.iterrows():\n",
    "    split_question = row['clean_question'].split(' ')\n",
    "    #removing low char. words like the, than\n",
    "    split_question = [v for v in split_question if len(v) > 5]\n",
    "    match_count = 0\n",
    "    for i in split_question:\n",
    "        if i in terms_used:\n",
    "            match_count += 1\n",
    "    for i in split_question:\n",
    "        terms_used.add(i)\n",
    "        \n",
    "    if len(split_question) > 0:\n",
    "        match_count /=  len(split_question)\n",
    "        \n",
    "    question_overlap.append(match_count)\n",
    "\n",
    "question_overlap[:20]"
   ]
  },
  {
   "cell_type": "code",
   "execution_count": 146,
   "metadata": {
    "collapsed": false
   },
   "outputs": [
    {
     "data": {
      "text/html": [
       "<div>\n",
       "<style scoped>\n",
       "    .dataframe tbody tr th:only-of-type {\n",
       "        vertical-align: middle;\n",
       "    }\n",
       "\n",
       "    .dataframe tbody tr th {\n",
       "        vertical-align: top;\n",
       "    }\n",
       "\n",
       "    .dataframe thead th {\n",
       "        text-align: right;\n",
       "    }\n",
       "</style>\n",
       "<table border=\"1\" class=\"dataframe\">\n",
       "  <thead>\n",
       "    <tr style=\"text-align: right;\">\n",
       "      <th></th>\n",
       "      <th>Show Number</th>\n",
       "      <th>Air Date</th>\n",
       "      <th>Round</th>\n",
       "      <th>Category</th>\n",
       "      <th>Value</th>\n",
       "      <th>Question</th>\n",
       "      <th>Answer</th>\n",
       "      <th>clean_question</th>\n",
       "      <th>clean_answer</th>\n",
       "      <th>clean_value</th>\n",
       "      <th>answer_in_question</th>\n",
       "      <th>question_overlap</th>\n",
       "    </tr>\n",
       "  </thead>\n",
       "  <tbody>\n",
       "    <tr>\n",
       "      <th>19325</th>\n",
       "      <td>10</td>\n",
       "      <td>1984-09-21</td>\n",
       "      <td>Final Jeopardy!</td>\n",
       "      <td>U.S. PRESIDENTS</td>\n",
       "      <td>None</td>\n",
       "      <td>Adventurous 26th president, he was 1st to ride...</td>\n",
       "      <td>Theodore Roosevelt</td>\n",
       "      <td>adventurous 26th president he was 1st to ride ...</td>\n",
       "      <td>theodore roosevelt</td>\n",
       "      <td>0</td>\n",
       "      <td>0.000000</td>\n",
       "      <td>0.0</td>\n",
       "    </tr>\n",
       "    <tr>\n",
       "      <th>19301</th>\n",
       "      <td>10</td>\n",
       "      <td>1984-09-21</td>\n",
       "      <td>Double Jeopardy!</td>\n",
       "      <td>LABOR UNIONS</td>\n",
       "      <td>$200</td>\n",
       "      <td>Notorious labor leader missing since '75</td>\n",
       "      <td>Jimmy Hoffa</td>\n",
       "      <td>notorious labor leader missing since 75</td>\n",
       "      <td>jimmy hoffa</td>\n",
       "      <td>200</td>\n",
       "      <td>0.000000</td>\n",
       "      <td>0.0</td>\n",
       "    </tr>\n",
       "    <tr>\n",
       "      <th>19302</th>\n",
       "      <td>10</td>\n",
       "      <td>1984-09-21</td>\n",
       "      <td>Double Jeopardy!</td>\n",
       "      <td>1789</td>\n",
       "      <td>$200</td>\n",
       "      <td>Washington proclaimed Nov. 26, 1789 this first...</td>\n",
       "      <td>Thanksgiving</td>\n",
       "      <td>washington proclaimed nov 26 1789 this first n...</td>\n",
       "      <td>thanksgiving</td>\n",
       "      <td>200</td>\n",
       "      <td>0.000000</td>\n",
       "      <td>0.0</td>\n",
       "    </tr>\n",
       "    <tr>\n",
       "      <th>19303</th>\n",
       "      <td>10</td>\n",
       "      <td>1984-09-21</td>\n",
       "      <td>Double Jeopardy!</td>\n",
       "      <td>TOURIST TRAPS</td>\n",
       "      <td>$200</td>\n",
       "      <td>Both Ferde Grofe' &amp; the Colorado River dug thi...</td>\n",
       "      <td>the Grand Canyon</td>\n",
       "      <td>both ferde grofe the colorado river dug this n...</td>\n",
       "      <td>the grand canyon</td>\n",
       "      <td>200</td>\n",
       "      <td>0.000000</td>\n",
       "      <td>0.5</td>\n",
       "    </tr>\n",
       "    <tr>\n",
       "      <th>19304</th>\n",
       "      <td>10</td>\n",
       "      <td>1984-09-21</td>\n",
       "      <td>Double Jeopardy!</td>\n",
       "      <td>LITERATURE</td>\n",
       "      <td>$200</td>\n",
       "      <td>Depending on the book, he could be a \"Jones\", ...</td>\n",
       "      <td>Tom</td>\n",
       "      <td>depending on the book he could be a jones a sa...</td>\n",
       "      <td>tom</td>\n",
       "      <td>200</td>\n",
       "      <td>0.000000</td>\n",
       "      <td>0.0</td>\n",
       "    </tr>\n",
       "    <tr>\n",
       "      <th>19305</th>\n",
       "      <td>10</td>\n",
       "      <td>1984-09-21</td>\n",
       "      <td>Double Jeopardy!</td>\n",
       "      <td>HOMONYMS</td>\n",
       "      <td>$200</td>\n",
       "      <td>Hindu hierarchy or a play's actors</td>\n",
       "      <td>a caste (cast)</td>\n",
       "      <td>hindu hierarchy or a plays actors</td>\n",
       "      <td>a caste cast</td>\n",
       "      <td>200</td>\n",
       "      <td>0.333333</td>\n",
       "      <td>0.0</td>\n",
       "    </tr>\n",
       "    <tr>\n",
       "      <th>19306</th>\n",
       "      <td>10</td>\n",
       "      <td>1984-09-21</td>\n",
       "      <td>Double Jeopardy!</td>\n",
       "      <td>TV TRIVIA</td>\n",
       "      <td>$200</td>\n",
       "      <td>Last season, this series mourned the loss of S...</td>\n",
       "      <td>Hill Street Blues</td>\n",
       "      <td>last season this series mourned the loss of sg...</td>\n",
       "      <td>hill street blues</td>\n",
       "      <td>200</td>\n",
       "      <td>0.000000</td>\n",
       "      <td>0.0</td>\n",
       "    </tr>\n",
       "    <tr>\n",
       "      <th>19307</th>\n",
       "      <td>10</td>\n",
       "      <td>1984-09-21</td>\n",
       "      <td>Double Jeopardy!</td>\n",
       "      <td>1789</td>\n",
       "      <td>$400</td>\n",
       "      <td>Why April 28th was a bad day for Capt. Bligh</td>\n",
       "      <td>the day of the mutiny on the Bounty</td>\n",
       "      <td>why april 28th was a bad day for capt bligh</td>\n",
       "      <td>the day of the mutiny on the bounty</td>\n",
       "      <td>400</td>\n",
       "      <td>0.142857</td>\n",
       "      <td>0.0</td>\n",
       "    </tr>\n",
       "    <tr>\n",
       "      <th>19308</th>\n",
       "      <td>10</td>\n",
       "      <td>1984-09-21</td>\n",
       "      <td>Double Jeopardy!</td>\n",
       "      <td>TOURIST TRAPS</td>\n",
       "      <td>$400</td>\n",
       "      <td>Seaside resort that has a monopoly on East Coa...</td>\n",
       "      <td>Atlantic City, New Jersey</td>\n",
       "      <td>seaside resort that has a monopoly on east coa...</td>\n",
       "      <td>atlantic city new jersey</td>\n",
       "      <td>400</td>\n",
       "      <td>0.000000</td>\n",
       "      <td>0.0</td>\n",
       "    </tr>\n",
       "    <tr>\n",
       "      <th>19309</th>\n",
       "      <td>10</td>\n",
       "      <td>1984-09-21</td>\n",
       "      <td>Double Jeopardy!</td>\n",
       "      <td>LITERATURE</td>\n",
       "      <td>$400</td>\n",
       "      <td>He wrote \"The 3 Musketeers\"; his son wrote \"Ca...</td>\n",
       "      <td>(Alexandre) Dumas</td>\n",
       "      <td>he wrote the 3 musketeers his son wrote camille</td>\n",
       "      <td>alexandre dumas</td>\n",
       "      <td>400</td>\n",
       "      <td>0.000000</td>\n",
       "      <td>0.0</td>\n",
       "    </tr>\n",
       "  </tbody>\n",
       "</table>\n",
       "</div>"
      ],
      "text/plain": [
       "       Show Number   Air Date             Round         Category Value  \\\n",
       "19325           10 1984-09-21   Final Jeopardy!  U.S. PRESIDENTS  None   \n",
       "19301           10 1984-09-21  Double Jeopardy!     LABOR UNIONS  $200   \n",
       "19302           10 1984-09-21  Double Jeopardy!             1789  $200   \n",
       "19303           10 1984-09-21  Double Jeopardy!    TOURIST TRAPS  $200   \n",
       "19304           10 1984-09-21  Double Jeopardy!       LITERATURE  $200   \n",
       "19305           10 1984-09-21  Double Jeopardy!         HOMONYMS  $200   \n",
       "19306           10 1984-09-21  Double Jeopardy!        TV TRIVIA  $200   \n",
       "19307           10 1984-09-21  Double Jeopardy!             1789  $400   \n",
       "19308           10 1984-09-21  Double Jeopardy!    TOURIST TRAPS  $400   \n",
       "19309           10 1984-09-21  Double Jeopardy!       LITERATURE  $400   \n",
       "\n",
       "                                                Question  \\\n",
       "19325  Adventurous 26th president, he was 1st to ride...   \n",
       "19301           Notorious labor leader missing since '75   \n",
       "19302  Washington proclaimed Nov. 26, 1789 this first...   \n",
       "19303  Both Ferde Grofe' & the Colorado River dug thi...   \n",
       "19304  Depending on the book, he could be a \"Jones\", ...   \n",
       "19305                 Hindu hierarchy or a play's actors   \n",
       "19306  Last season, this series mourned the loss of S...   \n",
       "19307       Why April 28th was a bad day for Capt. Bligh   \n",
       "19308  Seaside resort that has a monopoly on East Coa...   \n",
       "19309  He wrote \"The 3 Musketeers\"; his son wrote \"Ca...   \n",
       "\n",
       "                                    Answer  \\\n",
       "19325                   Theodore Roosevelt   \n",
       "19301                          Jimmy Hoffa   \n",
       "19302                         Thanksgiving   \n",
       "19303                     the Grand Canyon   \n",
       "19304                                  Tom   \n",
       "19305                       a caste (cast)   \n",
       "19306                    Hill Street Blues   \n",
       "19307  the day of the mutiny on the Bounty   \n",
       "19308            Atlantic City, New Jersey   \n",
       "19309                    (Alexandre) Dumas   \n",
       "\n",
       "                                          clean_question  \\\n",
       "19325  adventurous 26th president he was 1st to ride ...   \n",
       "19301            notorious labor leader missing since 75   \n",
       "19302  washington proclaimed nov 26 1789 this first n...   \n",
       "19303  both ferde grofe the colorado river dug this n...   \n",
       "19304  depending on the book he could be a jones a sa...   \n",
       "19305                  hindu hierarchy or a plays actors   \n",
       "19306  last season this series mourned the loss of sg...   \n",
       "19307        why april 28th was a bad day for capt bligh   \n",
       "19308  seaside resort that has a monopoly on east coa...   \n",
       "19309    he wrote the 3 musketeers his son wrote camille   \n",
       "\n",
       "                              clean_answer  clean_value  answer_in_question  \\\n",
       "19325                   theodore roosevelt            0            0.000000   \n",
       "19301                          jimmy hoffa          200            0.000000   \n",
       "19302                         thanksgiving          200            0.000000   \n",
       "19303                     the grand canyon          200            0.000000   \n",
       "19304                                  tom          200            0.000000   \n",
       "19305                         a caste cast          200            0.333333   \n",
       "19306                    hill street blues          200            0.000000   \n",
       "19307  the day of the mutiny on the bounty          400            0.142857   \n",
       "19308             atlantic city new jersey          400            0.000000   \n",
       "19309                      alexandre dumas          400            0.000000   \n",
       "\n",
       "       question_overlap  \n",
       "19325               0.0  \n",
       "19301               0.0  \n",
       "19302               0.0  \n",
       "19303               0.5  \n",
       "19304               0.0  \n",
       "19305               0.0  \n",
       "19306               0.0  \n",
       "19307               0.0  \n",
       "19308               0.0  \n",
       "19309               0.0  "
      ]
     },
     "execution_count": 146,
     "metadata": {},
     "output_type": "execute_result"
    }
   ],
   "source": [
    "#assinging the question_overlap list to our dataset\n",
    "jeopardy['question_overlap'] = question_overlap\n",
    "jeopardy.head(10)"
   ]
  },
  {
   "cell_type": "code",
   "execution_count": 147,
   "metadata": {
    "collapsed": false
   },
   "outputs": [
    {
     "data": {
      "text/plain": [
       "0.6876260592169802"
      ]
     },
     "execution_count": 147,
     "metadata": {},
     "output_type": "execute_result"
    }
   ],
   "source": [
    "#the mean of question_overlap column\n",
    "jeopardy['question_overlap'].mean()"
   ]
  },
  {
   "cell_type": "markdown",
   "metadata": {},
   "source": [
    "On average(mean), around 69% of the words of questions are previously repeated in prior questions. As a result, it's recommmanded to study previous questions to be familiar with new questions"
   ]
  },
  {
   "cell_type": "markdown",
   "metadata": {},
   "source": [
    "**Finding words that are repeated significantly more in high value questions in comparison to low value questions**\n",
    "* to achieve this goal, we use chi-square value "
   ]
  },
  {
   "cell_type": "code",
   "execution_count": 156,
   "metadata": {
    "collapsed": true
   },
   "outputs": [],
   "source": [
    "# grouping questions into low and high value question, used index = 800uds\n",
    "def value_segment(row):\n",
    "    if int(row['clean_value']) > 800:\n",
    "        return 1\n",
    "    else:\n",
    "        return 0"
   ]
  },
  {
   "cell_type": "code",
   "execution_count": 161,
   "metadata": {
    "collapsed": false
   },
   "outputs": [
    {
     "data": {
      "text/plain": [
       "0    14265\n",
       "1     5734\n",
       "Name: high_value, dtype: int64"
      ]
     },
     "execution_count": 161,
     "metadata": {},
     "output_type": "execute_result"
    }
   ],
   "source": [
    "#applying the value_segment function to value column\n",
    "jeopardy['high_value'] = jeopardy.apply(value_segment,axis=1)\n",
    "jeopardy['high_value'].value_counts()"
   ]
  },
  {
   "cell_type": "code",
   "execution_count": 169,
   "metadata": {
    "collapsed": true
   },
   "outputs": [],
   "source": [
    "# creating a function to find the frequency of \n",
    "#a specific word in low and high value questions\n",
    "def frq(word):\n",
    "    low_count = 0\n",
    "    high_count = 0\n",
    "    \n",
    "    for i,row in jeopardy.iterrows():\n",
    "        split_question = row['clean_question'].split(' ')\n",
    "        \n",
    "        if word in split_question:\n",
    "            if row['high_value'] == 1:\n",
    "                high_count += 1\n",
    "            else:\n",
    "                low_count += 1\n",
    "                \n",
    "    return high_count,low_count   "
   ]
  },
  {
   "cell_type": "code",
   "execution_count": 172,
   "metadata": {
    "collapsed": false
   },
   "outputs": [
    {
     "data": {
      "text/plain": [
       "['mansions',\n",
       " 'gundycoached',\n",
       " 'hochdeutsch',\n",
       " 'crimea',\n",
       " 'neutering',\n",
       " 'hrefhttpwwwjarchivecommedia20060303dj27jpg',\n",
       " 'complex',\n",
       " 'mather',\n",
       " 'houses',\n",
       " 'toledo']"
      ]
     },
     "execution_count": 172,
     "metadata": {},
     "output_type": "execute_result"
    }
   ],
   "source": [
    "# creatin a sample list from the terms_used set, containing all questions' words\n",
    "from random import choice\n",
    "\n",
    "terms_used_list = list(terms_used)\n",
    "comparison_terms = [choice(terms_used_list) for _ in range(10)]\n",
    "\n",
    "comparison_terms"
   ]
  },
  {
   "cell_type": "code",
   "execution_count": 175,
   "metadata": {
    "collapsed": false
   },
   "outputs": [
    {
     "data": {
      "text/plain": [
       "[(1, 0),\n",
       " (0, 1),\n",
       " (0, 1),\n",
       " (1, 1),\n",
       " (0, 1),\n",
       " (0, 1),\n",
       " (0, 13),\n",
       " (0, 1),\n",
       " (5, 19),\n",
       " (0, 3)]"
      ]
     },
     "execution_count": 175,
     "metadata": {},
     "output_type": "execute_result"
    }
   ],
   "source": [
    "#applying the frq function to our random list\n",
    "observed_expected = list()\n",
    "for term in comparison_terms:\n",
    "    observed_expected.append(frq(term))\n",
    "    \n",
    "observed_expected"
   ]
  },
  {
   "cell_type": "code",
   "execution_count": 177,
   "metadata": {
    "collapsed": false
   },
   "outputs": [
    {
     "data": {
      "text/plain": [
       "5734"
      ]
     },
     "execution_count": 177,
     "metadata": {},
     "output_type": "execute_result"
    }
   ],
   "source": [
    "#number of high value questions\n",
    "high_value_count = jeopardy['high_value'].value_counts()[1]\n",
    "high_value_count"
   ]
  },
  {
   "cell_type": "code",
   "execution_count": 178,
   "metadata": {
    "collapsed": false
   },
   "outputs": [
    {
     "data": {
      "text/plain": [
       "14265"
      ]
     },
     "execution_count": 178,
     "metadata": {},
     "output_type": "execute_result"
    }
   ],
   "source": [
    "#number of low value questions\n",
    "low_value_count = jeopardy['high_value'].value_counts()[0]\n",
    "low_value_count"
   ]
  },
  {
   "cell_type": "markdown",
   "metadata": {},
   "source": [
    "To use chi-square test, first, we should determine the expected frequency of each selected word in low_value and high_value questions. for example, if word \"complex\" is used 0 times in high value questions in 13 times in low value questions, it is used 13(13+0) times in all our questions. \n",
    "\n",
    "a word that has a frequency of 13 across 20,000 questions, have a total proportion of 13/20000. it is expected that, this proportion be distributed based on total high value questions and low value questions, so we should multiply the proportion by total high value and low value questions to find the expected values.\n",
    "\n",
    "then, we compare the expected values with our observation and find the chi-square of this word. if its p_value is below 5%(our threshold) this word is significantly more frequent in high value questions or low value questions. "
   ]
  },
  {
   "cell_type": "code",
   "execution_count": 185,
   "metadata": {
    "collapsed": false
   },
   "outputs": [
    {
     "data": {
      "text/plain": [
       "[[2.487792117195675, 0.11473257634454047],\n",
       " [0.401962846126884, 0.5260772985705469],\n",
       " [0.401962846126884, 0.5260772985705469],\n",
       " [0.4448774816612795, 0.5047776487545996],\n",
       " [0.401962846126884, 0.5260772985705469],\n",
       " [0.401962846126884, 0.5260772985705469],\n",
       " [5.225516999649492, 0.022257828882083316],\n",
       " [0.401962846126884, 0.5260772985705469],\n",
       " [0.7209745992373746, 0.3958244089185019],\n",
       " [1.205888538380652, 0.27214791766902047]]"
      ]
     },
     "execution_count": 185,
     "metadata": {},
     "output_type": "execute_result"
    }
   ],
   "source": [
    "# calculating the chi-square \n",
    "from scipy.stats import chisquare\n",
    "chi_squared = list()\n",
    "for observation in observed_expected:\n",
    "    total = sum(observation)\n",
    "    total_prop = total / jeopardy.shape[0]\n",
    "    expected_high_value = total_prop * high_value_count\n",
    "    expected_low_value = total_prop * low_value_count\n",
    "    \n",
    "    observed = np.array([observation[0],observation[1]])\n",
    "    expected = np.array([expected_high_value,expected_low_value])\n",
    "    \n",
    "    chi_squared_value , p_value = chisquare(observed,expected)\n",
    "    chi_squared.append([chi_squared_value,p_value])\n",
    "    \n",
    "chi_squared"
   ]
  },
  {
   "cell_type": "markdown",
   "metadata": {},
   "source": [
    "None of our randomly selected words don't have a p_value less than 0.05. so there is no significant difference between their occurence in low value questions in comparison to high value questions. "
   ]
  },
  {
   "cell_type": "markdown",
   "metadata": {},
   "source": [
    "## Conclusion\n",
    "* While there is no guaranteed strategy to winning Jeopardy as we have found out, it might be worth while to look at past questions while preparing.\n",
    "\n",
    "\n",
    "\n",
    "* There also isn't any significant relationship between any term and high value questions, so there is no keyword to look out for to prepare for high value questions.\n",
    "\n"
   ]
  }
 ],
 "metadata": {
  "kernelspec": {
   "display_name": "Python 3",
   "language": "python",
   "name": "python3"
  },
  "language_info": {
   "codemirror_mode": {
    "name": "ipython",
    "version": 3
   },
   "file_extension": ".py",
   "mimetype": "text/x-python",
   "name": "python",
   "nbconvert_exporter": "python",
   "pygments_lexer": "ipython3",
   "version": "3.4.3"
  }
 },
 "nbformat": 4,
 "nbformat_minor": 0
}
